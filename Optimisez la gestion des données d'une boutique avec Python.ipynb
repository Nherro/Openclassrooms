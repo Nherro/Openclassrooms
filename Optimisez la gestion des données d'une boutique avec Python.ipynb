{
 "cells": [
  {
   "cell_type": "markdown",
   "id": "457505bb",
   "metadata": {},
   "source": [
    "# Optimisez la gestion des données d'une boutique avec Python"
   ]
  },
  {
   "cell_type": "markdown",
   "id": "45f8beb1",
   "metadata": {},
   "source": [
    "#### Importation"
   ]
  },
  {
   "cell_type": "code",
   "execution_count": 1,
   "id": "97f92876",
   "metadata": {},
   "outputs": [],
   "source": [
    "from pandas_profiling import ProfileReport\n",
    "import pandas as pd\n",
    "import numpy as np\n",
    "import matplotlib\n",
    "matplotlib.use('TkAgg')\n",
    "import matplotlib.pyplot as plt\n",
    "import tkinter\n",
    "%matplotlib inline\n",
    "pd.options.mode.chained_assignment = None  # default='warn'"
   ]
  },
  {
   "cell_type": "markdown",
   "id": "46a568c3",
   "metadata": {},
   "source": [
    "#### Importation des données et Profiling"
   ]
  },
  {
   "cell_type": "code",
   "execution_count": 2,
   "id": "dad27086",
   "metadata": {},
   "outputs": [
    {
     "name": "stdout",
     "output_type": "stream",
     "text": [
      "(1513, 28)\n"
     ]
    }
   ],
   "source": [
    "df_web = pd.read_excel('C:/Users/Nherro/Desktop/OpenClassRooms/P5_Vella_Frederic/Doc P5/Donnees/web.xlsx')\n",
    "print(df_web.shape)\n",
    "#df_web.head()"
   ]
  },
  {
   "cell_type": "code",
   "execution_count": 3,
   "id": "402de73a",
   "metadata": {},
   "outputs": [],
   "source": [
    "#Profiling WEB\n",
    "#profdf_web = ProfileReport(df_web)\n",
    "#profiledf_web  =  ProfileReport ( df_web , title = \"Donnée Web\" )\n",
    "#profiledf_web"
   ]
  },
  {
   "cell_type": "code",
   "execution_count": 4,
   "id": "d639e6ed",
   "metadata": {},
   "outputs": [
    {
     "name": "stdout",
     "output_type": "stream",
     "text": [
      "(825, 5)\n"
     ]
    }
   ],
   "source": [
    "df_erp = pd.read_excel('C:/Users/Nherro/Desktop/OpenClassRooms/P5_Vella_Frederic/Doc P5/Donnees/erp.xlsx')\n",
    "print(df_erp.shape)\n",
    "#df_web.head()"
   ]
  },
  {
   "cell_type": "code",
   "execution_count": 5,
   "id": "98b9d1ce",
   "metadata": {},
   "outputs": [],
   "source": [
    "#Profiling ERP\n",
    "#profdf_erp = ProfileReport(df_erp)\n",
    "#profiledf_erp  =  ProfileReport ( df_erp , title = \"Donnée ERP\" )\n",
    "#profiledf_erp"
   ]
  },
  {
   "cell_type": "code",
   "execution_count": 6,
   "id": "98f47417",
   "metadata": {},
   "outputs": [
    {
     "name": "stdout",
     "output_type": "stream",
     "text": [
      "(825, 2)\n"
     ]
    }
   ],
   "source": [
    "df_liaison= pd.read_excel('C:/Users/Nherro/Desktop/OpenClassRooms/P5_Vella_Frederic/Doc P5/Donnees/liaison.xlsx')\n",
    "print(df_liaison.shape)\n",
    "#df_liaison.head()"
   ]
  },
  {
   "cell_type": "code",
   "execution_count": 7,
   "id": "e6dc2e9f",
   "metadata": {},
   "outputs": [],
   "source": [
    "#Renommage id_web en sku\n",
    "df_liaison.rename(columns={'id_web':'sku'}, inplace=True)"
   ]
  },
  {
   "cell_type": "code",
   "execution_count": 8,
   "id": "c71da38c",
   "metadata": {},
   "outputs": [],
   "source": [
    "#Profiling LIAISON\n",
    "#profdf_liaison = ProfileReport(df_liaison)\n",
    "#profiledf_liaison  =  ProfileReport ( df_liaison , title = \"Donnée LIAISON \" )\n",
    "#profiledf_liaison"
   ]
  },
  {
   "cell_type": "markdown",
   "id": "d65276dc",
   "metadata": {},
   "source": [
    "### Vérification unicité des clés primaire"
   ]
  },
  {
   "cell_type": "markdown",
   "id": "c1e91bb8",
   "metadata": {},
   "source": [
    "##### Vérification unicité des clé primaire ERP"
   ]
  },
  {
   "cell_type": "code",
   "execution_count": 9,
   "id": "57408076",
   "metadata": {},
   "outputs": [
    {
     "data": {
      "text/plain": [
       "0"
      ]
     },
     "execution_count": 9,
     "metadata": {},
     "output_type": "execute_result"
    }
   ],
   "source": [
    "(df_erp['product_id'].duplicated()).sum() #Nombre de valeurs en doublon sur product_id"
   ]
  },
  {
   "cell_type": "markdown",
   "id": "55a3fbff",
   "metadata": {},
   "source": [
    "##### Vérification unicité des clé primaire WEB"
   ]
  },
  {
   "cell_type": "code",
   "execution_count": 10,
   "id": "e8050d9e",
   "metadata": {},
   "outputs": [
    {
     "data": {
      "text/plain": [
       "798"
      ]
     },
     "execution_count": 10,
     "metadata": {},
     "output_type": "execute_result"
    }
   ],
   "source": [
    "(df_web['sku'].duplicated()).sum() #Nombre de valeurs en doublon sur sku"
   ]
  },
  {
   "cell_type": "code",
   "execution_count": 11,
   "id": "b3f55238",
   "metadata": {},
   "outputs": [
    {
     "data": {
      "text/html": [
       "<div>\n",
       "<style scoped>\n",
       "    .dataframe tbody tr th:only-of-type {\n",
       "        vertical-align: middle;\n",
       "    }\n",
       "\n",
       "    .dataframe tbody tr th {\n",
       "        vertical-align: top;\n",
       "    }\n",
       "\n",
       "    .dataframe thead th {\n",
       "        text-align: right;\n",
       "    }\n",
       "</style>\n",
       "<table border=\"1\" class=\"dataframe\">\n",
       "  <thead>\n",
       "    <tr style=\"text-align: right;\">\n",
       "      <th></th>\n",
       "      <th>sku</th>\n",
       "    </tr>\n",
       "    <tr>\n",
       "      <th>sku</th>\n",
       "      <th></th>\n",
       "    </tr>\n",
       "  </thead>\n",
       "  <tbody>\n",
       "    <tr>\n",
       "      <th>38</th>\n",
       "      <td>2</td>\n",
       "    </tr>\n",
       "    <tr>\n",
       "      <th>41</th>\n",
       "      <td>2</td>\n",
       "    </tr>\n",
       "    <tr>\n",
       "      <th>304</th>\n",
       "      <td>2</td>\n",
       "    </tr>\n",
       "    <tr>\n",
       "      <th>523</th>\n",
       "      <td>2</td>\n",
       "    </tr>\n",
       "    <tr>\n",
       "      <th>531</th>\n",
       "      <td>2</td>\n",
       "    </tr>\n",
       "    <tr>\n",
       "      <th>...</th>\n",
       "      <td>...</td>\n",
       "    </tr>\n",
       "    <tr>\n",
       "      <th>19820</th>\n",
       "      <td>2</td>\n",
       "    </tr>\n",
       "    <tr>\n",
       "      <th>19821</th>\n",
       "      <td>2</td>\n",
       "    </tr>\n",
       "    <tr>\n",
       "      <th>19822</th>\n",
       "      <td>2</td>\n",
       "    </tr>\n",
       "    <tr>\n",
       "      <th>13127-1</th>\n",
       "      <td>2</td>\n",
       "    </tr>\n",
       "    <tr>\n",
       "      <th>bon-cadeau-25-euros</th>\n",
       "      <td>2</td>\n",
       "    </tr>\n",
       "  </tbody>\n",
       "</table>\n",
       "<p>714 rows × 1 columns</p>\n",
       "</div>"
      ],
      "text/plain": [
       "                     sku\n",
       "sku                     \n",
       "38                     2\n",
       "41                     2\n",
       "304                    2\n",
       "523                    2\n",
       "531                    2\n",
       "...                  ...\n",
       "19820                  2\n",
       "19821                  2\n",
       "19822                  2\n",
       "13127-1                2\n",
       "bon-cadeau-25-euros    2\n",
       "\n",
       "[714 rows x 1 columns]"
      ]
     },
     "execution_count": 11,
     "metadata": {},
     "output_type": "execute_result"
    }
   ],
   "source": [
    "df_web.groupby('sku').agg({'sku':'count'}) #Visualisation des valeurs en doublon"
   ]
  },
  {
   "cell_type": "markdown",
   "id": "d14edea4",
   "metadata": {},
   "source": [
    "Verification des doublons"
   ]
  },
  {
   "cell_type": "code",
   "execution_count": 12,
   "id": "87041783",
   "metadata": {},
   "outputs": [
    {
     "data": {
      "text/html": [
       "<div>\n",
       "<style scoped>\n",
       "    .dataframe tbody tr th:only-of-type {\n",
       "        vertical-align: middle;\n",
       "    }\n",
       "\n",
       "    .dataframe tbody tr th {\n",
       "        vertical-align: top;\n",
       "    }\n",
       "\n",
       "    .dataframe thead th {\n",
       "        text-align: right;\n",
       "    }\n",
       "</style>\n",
       "<table border=\"1\" class=\"dataframe\">\n",
       "  <thead>\n",
       "    <tr style=\"text-align: right;\">\n",
       "      <th></th>\n",
       "      <th>sku</th>\n",
       "      <th>virtual</th>\n",
       "      <th>downloadable</th>\n",
       "      <th>rating_count</th>\n",
       "      <th>average_rating</th>\n",
       "      <th>total_sales</th>\n",
       "      <th>tax_status</th>\n",
       "      <th>tax_class</th>\n",
       "      <th>post_author</th>\n",
       "      <th>post_date</th>\n",
       "      <th>...</th>\n",
       "      <th>post_name</th>\n",
       "      <th>post_modified</th>\n",
       "      <th>post_modified_gmt</th>\n",
       "      <th>post_content_filtered</th>\n",
       "      <th>post_parent</th>\n",
       "      <th>guid</th>\n",
       "      <th>menu_order</th>\n",
       "      <th>post_type</th>\n",
       "      <th>post_mime_type</th>\n",
       "      <th>comment_count</th>\n",
       "    </tr>\n",
       "  </thead>\n",
       "  <tbody>\n",
       "    <tr>\n",
       "      <th>339</th>\n",
       "      <td>38</td>\n",
       "      <td>0</td>\n",
       "      <td>0</td>\n",
       "      <td>0</td>\n",
       "      <td>0.0</td>\n",
       "      <td>38.0</td>\n",
       "      <td>taxable</td>\n",
       "      <td>NaN</td>\n",
       "      <td>2.0</td>\n",
       "      <td>2018-04-18 12:25:58</td>\n",
       "      <td>...</td>\n",
       "      <td>emile-boeckel-cremant-brut-blanc-de-blancs</td>\n",
       "      <td>2020-08-27 17:15:03</td>\n",
       "      <td>2020-08-27 15:15:03</td>\n",
       "      <td>NaN</td>\n",
       "      <td>0.0</td>\n",
       "      <td>https://www.bottle-neck.fr/?post_type=product&amp;...</td>\n",
       "      <td>0.0</td>\n",
       "      <td>product</td>\n",
       "      <td>NaN</td>\n",
       "      <td>0.0</td>\n",
       "    </tr>\n",
       "    <tr>\n",
       "      <th>1123</th>\n",
       "      <td>38</td>\n",
       "      <td>0</td>\n",
       "      <td>0</td>\n",
       "      <td>0</td>\n",
       "      <td>0.0</td>\n",
       "      <td>38.0</td>\n",
       "      <td>NaN</td>\n",
       "      <td>NaN</td>\n",
       "      <td>2.0</td>\n",
       "      <td>2018-04-18 12:25:58</td>\n",
       "      <td>...</td>\n",
       "      <td>emile-boeckel-cremant-brut-blanc-de-blancs</td>\n",
       "      <td>2020-08-27 17:15:03</td>\n",
       "      <td>2020-08-27 15:15:03</td>\n",
       "      <td>NaN</td>\n",
       "      <td>0.0</td>\n",
       "      <td>https://www.bottle-neck.fr/wp-content/uploads/...</td>\n",
       "      <td>0.0</td>\n",
       "      <td>attachment</td>\n",
       "      <td>image/jpeg</td>\n",
       "      <td>0.0</td>\n",
       "    </tr>\n",
       "  </tbody>\n",
       "</table>\n",
       "<p>2 rows × 28 columns</p>\n",
       "</div>"
      ],
      "text/plain": [
       "     sku  virtual  downloadable  rating_count  average_rating  total_sales  \\\n",
       "339   38        0             0             0             0.0         38.0   \n",
       "1123  38        0             0             0             0.0         38.0   \n",
       "\n",
       "     tax_status  tax_class  post_author           post_date  ...  \\\n",
       "339     taxable        NaN          2.0 2018-04-18 12:25:58  ...   \n",
       "1123        NaN        NaN          2.0 2018-04-18 12:25:58  ...   \n",
       "\n",
       "                                       post_name       post_modified  \\\n",
       "339   emile-boeckel-cremant-brut-blanc-de-blancs 2020-08-27 17:15:03   \n",
       "1123  emile-boeckel-cremant-brut-blanc-de-blancs 2020-08-27 17:15:03   \n",
       "\n",
       "       post_modified_gmt post_content_filtered post_parent  \\\n",
       "339  2020-08-27 15:15:03                   NaN         0.0   \n",
       "1123 2020-08-27 15:15:03                   NaN         0.0   \n",
       "\n",
       "                                                   guid menu_order  \\\n",
       "339   https://www.bottle-neck.fr/?post_type=product&...        0.0   \n",
       "1123  https://www.bottle-neck.fr/wp-content/uploads/...        0.0   \n",
       "\n",
       "       post_type post_mime_type comment_count  \n",
       "339      product            NaN           0.0  \n",
       "1123  attachment     image/jpeg           0.0  \n",
       "\n",
       "[2 rows x 28 columns]"
      ]
     },
     "execution_count": 12,
     "metadata": {},
     "output_type": "execute_result"
    }
   ],
   "source": [
    "df_web.loc[df_web['sku'] == 38]"
   ]
  },
  {
   "cell_type": "code",
   "execution_count": 13,
   "id": "04b7af7a",
   "metadata": {},
   "outputs": [
    {
     "data": {
      "text/html": [
       "<div>\n",
       "<style scoped>\n",
       "    .dataframe tbody tr th:only-of-type {\n",
       "        vertical-align: middle;\n",
       "    }\n",
       "\n",
       "    .dataframe tbody tr th {\n",
       "        vertical-align: top;\n",
       "    }\n",
       "\n",
       "    .dataframe thead th {\n",
       "        text-align: right;\n",
       "    }\n",
       "</style>\n",
       "<table border=\"1\" class=\"dataframe\">\n",
       "  <thead>\n",
       "    <tr style=\"text-align: right;\">\n",
       "      <th></th>\n",
       "      <th>sku</th>\n",
       "      <th>virtual</th>\n",
       "      <th>downloadable</th>\n",
       "      <th>rating_count</th>\n",
       "      <th>average_rating</th>\n",
       "      <th>total_sales</th>\n",
       "      <th>tax_status</th>\n",
       "      <th>tax_class</th>\n",
       "      <th>post_author</th>\n",
       "      <th>post_date</th>\n",
       "      <th>...</th>\n",
       "      <th>post_name</th>\n",
       "      <th>post_modified</th>\n",
       "      <th>post_modified_gmt</th>\n",
       "      <th>post_content_filtered</th>\n",
       "      <th>post_parent</th>\n",
       "      <th>guid</th>\n",
       "      <th>menu_order</th>\n",
       "      <th>post_type</th>\n",
       "      <th>post_mime_type</th>\n",
       "      <th>comment_count</th>\n",
       "    </tr>\n",
       "  </thead>\n",
       "  <tbody>\n",
       "    <tr>\n",
       "      <th>70</th>\n",
       "      <td>304</td>\n",
       "      <td>0</td>\n",
       "      <td>0</td>\n",
       "      <td>0</td>\n",
       "      <td>0.0</td>\n",
       "      <td>40.0</td>\n",
       "      <td>taxable</td>\n",
       "      <td>NaN</td>\n",
       "      <td>2.0</td>\n",
       "      <td>2018-02-13 12:57:44</td>\n",
       "      <td>...</td>\n",
       "      <td>gosset-champagne-grande-reserve</td>\n",
       "      <td>2020-08-27 11:25:02</td>\n",
       "      <td>2020-08-27 09:25:02</td>\n",
       "      <td>NaN</td>\n",
       "      <td>0.0</td>\n",
       "      <td>https://www.bottle-neck.fr/?post_type=product&amp;...</td>\n",
       "      <td>0.0</td>\n",
       "      <td>product</td>\n",
       "      <td>NaN</td>\n",
       "      <td>0.0</td>\n",
       "    </tr>\n",
       "    <tr>\n",
       "      <th>868</th>\n",
       "      <td>304</td>\n",
       "      <td>0</td>\n",
       "      <td>0</td>\n",
       "      <td>0</td>\n",
       "      <td>0.0</td>\n",
       "      <td>40.0</td>\n",
       "      <td>NaN</td>\n",
       "      <td>NaN</td>\n",
       "      <td>2.0</td>\n",
       "      <td>2018-02-13 12:57:44</td>\n",
       "      <td>...</td>\n",
       "      <td>gosset-champagne-grande-reserve</td>\n",
       "      <td>2020-08-27 11:25:02</td>\n",
       "      <td>2020-08-27 09:25:02</td>\n",
       "      <td>NaN</td>\n",
       "      <td>0.0</td>\n",
       "      <td>https://www.bottle-neck.fr/wp-content/uploads/...</td>\n",
       "      <td>0.0</td>\n",
       "      <td>attachment</td>\n",
       "      <td>image/jpeg</td>\n",
       "      <td>0.0</td>\n",
       "    </tr>\n",
       "  </tbody>\n",
       "</table>\n",
       "<p>2 rows × 28 columns</p>\n",
       "</div>"
      ],
      "text/plain": [
       "     sku  virtual  downloadable  rating_count  average_rating  total_sales  \\\n",
       "70   304        0             0             0             0.0         40.0   \n",
       "868  304        0             0             0             0.0         40.0   \n",
       "\n",
       "    tax_status  tax_class  post_author           post_date  ...  \\\n",
       "70     taxable        NaN          2.0 2018-02-13 12:57:44  ...   \n",
       "868        NaN        NaN          2.0 2018-02-13 12:57:44  ...   \n",
       "\n",
       "                           post_name       post_modified   post_modified_gmt  \\\n",
       "70   gosset-champagne-grande-reserve 2020-08-27 11:25:02 2020-08-27 09:25:02   \n",
       "868  gosset-champagne-grande-reserve 2020-08-27 11:25:02 2020-08-27 09:25:02   \n",
       "\n",
       "    post_content_filtered post_parent  \\\n",
       "70                    NaN         0.0   \n",
       "868                   NaN         0.0   \n",
       "\n",
       "                                                  guid menu_order   post_type  \\\n",
       "70   https://www.bottle-neck.fr/?post_type=product&...        0.0     product   \n",
       "868  https://www.bottle-neck.fr/wp-content/uploads/...        0.0  attachment   \n",
       "\n",
       "    post_mime_type comment_count  \n",
       "70             NaN           0.0  \n",
       "868     image/jpeg           0.0  \n",
       "\n",
       "[2 rows x 28 columns]"
      ]
     },
     "execution_count": 13,
     "metadata": {},
     "output_type": "execute_result"
    }
   ],
   "source": [
    "df_web.loc[df_web['sku'] == 304]"
   ]
  },
  {
   "cell_type": "markdown",
   "id": "0e8069cc",
   "metadata": {},
   "source": [
    "Supression des clé primaire en double WEB"
   ]
  },
  {
   "cell_type": "code",
   "execution_count": 14,
   "id": "e9314e75",
   "metadata": {},
   "outputs": [],
   "source": [
    "df_web.drop_duplicates(subset=\"sku\", keep='first', inplace=True)#Supprime les valeurs en double"
   ]
  },
  {
   "cell_type": "code",
   "execution_count": 15,
   "id": "ee71e9e3",
   "metadata": {},
   "outputs": [
    {
     "data": {
      "text/plain": [
       "(715, 28)"
      ]
     },
     "execution_count": 15,
     "metadata": {},
     "output_type": "execute_result"
    }
   ],
   "source": [
    "df_web.drop_duplicates(['sku']).shape"
   ]
  },
  {
   "cell_type": "markdown",
   "id": "d6b13e3e",
   "metadata": {},
   "source": [
    "##### Vérification unicité des clé primaire LIAISON"
   ]
  },
  {
   "cell_type": "markdown",
   "id": "90274328",
   "metadata": {},
   "source": [
    "product_id"
   ]
  },
  {
   "cell_type": "code",
   "execution_count": 16,
   "id": "01f4afea",
   "metadata": {},
   "outputs": [
    {
     "data": {
      "text/plain": [
       "0"
      ]
     },
     "execution_count": 16,
     "metadata": {},
     "output_type": "execute_result"
    }
   ],
   "source": [
    "#Colonne product_id\n",
    "(df_liaison['product_id'].duplicated()).sum() #Nombre de valeurs différente."
   ]
  },
  {
   "cell_type": "markdown",
   "id": "07613d5f",
   "metadata": {},
   "source": [
    "##### Jointure entre WEB et le fichier LIAISON"
   ]
  },
  {
   "cell_type": "code",
   "execution_count": 17,
   "id": "b9d4100c",
   "metadata": {},
   "outputs": [
    {
     "name": "stdout",
     "output_type": "stream",
     "text": [
      "(825, 29)\n"
     ]
    }
   ],
   "source": [
    "df_web = pd.merge(df_liaison, df_web, on  = \"sku\" ,how = 'left')\n",
    "print(df_web.shape)\n",
    "#df_web.head()"
   ]
  },
  {
   "cell_type": "markdown",
   "id": "03a03428",
   "metadata": {},
   "source": [
    "##### Jointure avec le fichier ERP"
   ]
  },
  {
   "cell_type": "code",
   "execution_count": 18,
   "id": "63f1f45c",
   "metadata": {},
   "outputs": [
    {
     "name": "stdout",
     "output_type": "stream",
     "text": [
      "(825, 33)\n"
     ]
    }
   ],
   "source": [
    "df_data = pd.merge(df_erp, df_web, on  =\"product_id\", how='left')\n",
    "print(df_data.shape)\n",
    "#df_data"
   ]
  },
  {
   "cell_type": "markdown",
   "id": "167f63a2",
   "metadata": {},
   "source": [
    "#### Data profiling"
   ]
  },
  {
   "cell_type": "code",
   "execution_count": 19,
   "id": "16f3d014",
   "metadata": {},
   "outputs": [],
   "source": [
    "#profdf_data = ProfileReport(df_data)\n",
    "#profiledf_data  =  ProfileReport ( df_data , title = \"Donnée vente\" )\n",
    "#profiledf_data"
   ]
  },
  {
   "cell_type": "markdown",
   "id": "ecbb4ae5",
   "metadata": {},
   "source": [
    "### Nettoyage des données"
   ]
  },
  {
   "cell_type": "markdown",
   "id": "3395da86",
   "metadata": {},
   "source": [
    "Suppression des colonnes qui comportent une valeur unique"
   ]
  },
  {
   "cell_type": "code",
   "execution_count": 20,
   "id": "d3c39858",
   "metadata": {},
   "outputs": [],
   "source": [
    "#calcule le nombre de valeurs uniques dans le dataframe et supprime les colonnes qui n'ont qu'une seule valeur unique.\n",
    "#nunique = df_data.apply(pd.Series.nunique)\n",
    "#cols_to_drop = nunique[nunique == 1].index\n",
    "#df_data = df_data.drop(cols_to_drop, axis=1)"
   ]
  },
  {
   "cell_type": "code",
   "execution_count": 21,
   "id": "6d1fbf51",
   "metadata": {},
   "outputs": [],
   "source": [
    "#df_data.head()"
   ]
  },
  {
   "cell_type": "markdown",
   "id": "855f4324",
   "metadata": {},
   "source": [
    "Detection valeur manquante"
   ]
  },
  {
   "cell_type": "code",
   "execution_count": 22,
   "id": "78a9b890",
   "metadata": {},
   "outputs": [],
   "source": [
    "#print(df_data.isnull().sum())"
   ]
  },
  {
   "cell_type": "code",
   "execution_count": 23,
   "id": "4fea2f71",
   "metadata": {},
   "outputs": [],
   "source": [
    "#Suppression les colonnes avec 100% de valeurs manquantes\n",
    "#df_data = df_data.loc[:, df_data.isnull().mean() < 1]"
   ]
  },
  {
   "cell_type": "markdown",
   "id": "18cf2653",
   "metadata": {},
   "source": [
    "Datetime"
   ]
  },
  {
   "cell_type": "code",
   "execution_count": 24,
   "id": "dd7d5e1a",
   "metadata": {},
   "outputs": [],
   "source": [
    "#df_data['post_date'] = pd.to_datetime(df_data['post_date'], format=\"%Y/%m/%d %H:%M:%S\") #Convertir la colonne en Datetime"
   ]
  },
  {
   "cell_type": "code",
   "execution_count": 25,
   "id": "d6dbeb05",
   "metadata": {},
   "outputs": [],
   "source": [
    "#df_data['post_date_gmt'] = pd.to_datetime(df_data['post_date_gmt'],format=\"%Y/%m/%d %H:%M:%S\") #Convertir la colonne en Datetime"
   ]
  },
  {
   "cell_type": "code",
   "execution_count": 26,
   "id": "7b6d738d",
   "metadata": {},
   "outputs": [],
   "source": [
    "#df_data.dtypes"
   ]
  },
  {
   "cell_type": "markdown",
   "id": "e50a306b",
   "metadata": {},
   "source": [
    "#### Calcul"
   ]
  },
  {
   "cell_type": "markdown",
   "id": "63b403ef",
   "metadata": {},
   "source": [
    "#### Chiffre d'affaire par produit"
   ]
  },
  {
   "cell_type": "code",
   "execution_count": 27,
   "id": "5b22c371",
   "metadata": {},
   "outputs": [],
   "source": [
    "chiffre_daffaires = df_data[['product_id', 'sku', 'onsale_web', 'price', 'total_sales']] #Selection des colonnes necessaires\n",
    "chiffre_daffaires.set_index('product_id', inplace=True) #Utilisation de product_id comme index"
   ]
  },
  {
   "cell_type": "code",
   "execution_count": 28,
   "id": "d7890fc4",
   "metadata": {},
   "outputs": [],
   "source": [
    "chiffre_daffaires.to_csv('chiffre_daffaires.csv')"
   ]
  },
  {
   "cell_type": "code",
   "execution_count": 29,
   "id": "377ddf47",
   "metadata": {},
   "outputs": [],
   "source": [
    "chiffre_daffaires['CA_produit'] = (chiffre_daffaires['price'] * chiffre_daffaires['total_sales']) #Prix * nombre de vente"
   ]
  },
  {
   "cell_type": "code",
   "execution_count": 30,
   "id": "cdaf0ba9",
   "metadata": {},
   "outputs": [
    {
     "data": {
      "text/html": [
       "<div>\n",
       "<style scoped>\n",
       "    .dataframe tbody tr th:only-of-type {\n",
       "        vertical-align: middle;\n",
       "    }\n",
       "\n",
       "    .dataframe tbody tr th {\n",
       "        vertical-align: top;\n",
       "    }\n",
       "\n",
       "    .dataframe thead th {\n",
       "        text-align: right;\n",
       "    }\n",
       "</style>\n",
       "<table border=\"1\" class=\"dataframe\">\n",
       "  <thead>\n",
       "    <tr style=\"text-align: right;\">\n",
       "      <th></th>\n",
       "      <th>sku</th>\n",
       "      <th>onsale_web</th>\n",
       "      <th>price</th>\n",
       "      <th>total_sales</th>\n",
       "      <th>CA_produit</th>\n",
       "    </tr>\n",
       "    <tr>\n",
       "      <th>product_id</th>\n",
       "      <th></th>\n",
       "      <th></th>\n",
       "      <th></th>\n",
       "      <th></th>\n",
       "      <th></th>\n",
       "    </tr>\n",
       "  </thead>\n",
       "  <tbody>\n",
       "    <tr>\n",
       "      <th>4334</th>\n",
       "      <td>7818</td>\n",
       "      <td>1</td>\n",
       "      <td>49.0</td>\n",
       "      <td>96.0</td>\n",
       "      <td>4704.0</td>\n",
       "    </tr>\n",
       "    <tr>\n",
       "      <th>4144</th>\n",
       "      <td>1662</td>\n",
       "      <td>1</td>\n",
       "      <td>49.0</td>\n",
       "      <td>87.0</td>\n",
       "      <td>4263.0</td>\n",
       "    </tr>\n",
       "    <tr>\n",
       "      <th>4402</th>\n",
       "      <td>3510</td>\n",
       "      <td>1</td>\n",
       "      <td>176.0</td>\n",
       "      <td>13.0</td>\n",
       "      <td>2288.0</td>\n",
       "    </tr>\n",
       "    <tr>\n",
       "      <th>4142</th>\n",
       "      <td>11641</td>\n",
       "      <td>1</td>\n",
       "      <td>53.0</td>\n",
       "      <td>30.0</td>\n",
       "      <td>1590.0</td>\n",
       "    </tr>\n",
       "    <tr>\n",
       "      <th>4141</th>\n",
       "      <td>304</td>\n",
       "      <td>1</td>\n",
       "      <td>39.0</td>\n",
       "      <td>40.0</td>\n",
       "      <td>1560.0</td>\n",
       "    </tr>\n",
       "  </tbody>\n",
       "</table>\n",
       "</div>"
      ],
      "text/plain": [
       "              sku  onsale_web  price  total_sales  CA_produit\n",
       "product_id                                                   \n",
       "4334         7818           1   49.0         96.0      4704.0\n",
       "4144         1662           1   49.0         87.0      4263.0\n",
       "4402         3510           1  176.0         13.0      2288.0\n",
       "4142        11641           1   53.0         30.0      1590.0\n",
       "4141          304           1   39.0         40.0      1560.0"
      ]
     },
     "execution_count": 30,
     "metadata": {},
     "output_type": "execute_result"
    }
   ],
   "source": [
    "chiffre_daffaires.sort_values(by=['CA_produit'], ascending=False).head() #CA par produit classé par valeur décroissante"
   ]
  },
  {
   "cell_type": "markdown",
   "id": "4498b45b",
   "metadata": {},
   "source": [
    "#### Chiffre d'affaire total en ligne"
   ]
  },
  {
   "cell_type": "code",
   "execution_count": 31,
   "id": "52154085",
   "metadata": {},
   "outputs": [],
   "source": [
    "vente_en_ligne = chiffre_daffaires.loc[chiffre_daffaires['onsale_web'] == 1] #Condition sur onsale_web, valeur boolean 1=vente en ligne"
   ]
  },
  {
   "cell_type": "code",
   "execution_count": 32,
   "id": "9f88d9b2",
   "metadata": {},
   "outputs": [],
   "source": [
    "#vente_en_ligne.head()"
   ]
  },
  {
   "cell_type": "markdown",
   "id": "91851f98",
   "metadata": {},
   "source": [
    "Calcul du montant des bon cadeau"
   ]
  },
  {
   "cell_type": "code",
   "execution_count": 33,
   "id": "c72a6cbc",
   "metadata": {},
   "outputs": [
    {
     "data": {
      "text/plain": [
       "250.0"
      ]
     },
     "execution_count": 33,
     "metadata": {},
     "output_type": "execute_result"
    }
   ],
   "source": [
    "bon_cadeau = chiffre_daffaires[chiffre_daffaires['sku'] == 'bon-cadeau-25-euros']['CA_produit'].values[0]\n",
    "bon_cadeau"
   ]
  },
  {
   "cell_type": "markdown",
   "id": "1b58a71b",
   "metadata": {},
   "source": [
    "#### Calcul CA total en ligne"
   ]
  },
  {
   "cell_type": "code",
   "execution_count": 34,
   "id": "19b305f5",
   "metadata": {},
   "outputs": [
    {
     "name": "stdout",
     "output_type": "stream",
     "text": [
      "Le chiffre d'affaire total est de: 70318.6\n"
     ]
    }
   ],
   "source": [
    "CA_total = chiffre_daffaires['CA_produit'].sum() - bon_cadeau \n",
    "print('Le chiffre d\\'affaire total est de:', CA_total)"
   ]
  },
  {
   "cell_type": "markdown",
   "id": "515bce91",
   "metadata": {},
   "source": [
    "#### Vérification des valeurs aberrantes"
   ]
  },
  {
   "cell_type": "markdown",
   "id": "ba01829c",
   "metadata": {},
   "source": [
    "Recherche des prix : bas moyen haut"
   ]
  },
  {
   "cell_type": "code",
   "execution_count": 35,
   "id": "1e82143c",
   "metadata": {},
   "outputs": [
    {
     "name": "stdout",
     "output_type": "stream",
     "text": [
      " Le prix le plus bas est de  5.2 \n",
      " Le prix le plus haut est de  225.0 \n",
      " Le prix moyenne est de 32.42\n"
     ]
    }
   ],
   "source": [
    "print(' Le prix le plus bas est de ',chiffre_daffaires['price'].min(),\n",
    "      '\\n Le prix le plus haut est de ',chiffre_daffaires['price'].max(),\n",
    "      '\\n Le prix moyenne est de', round(chiffre_daffaires['price'].mean(),2)   )"
   ]
  },
  {
   "cell_type": "markdown",
   "id": "c6a95081",
   "metadata": {},
   "source": [
    "#### Visualisation des valeurs aberrantes"
   ]
  },
  {
   "cell_type": "code",
   "execution_count": 36,
   "id": "fd777564",
   "metadata": {},
   "outputs": [
    {
     "data": {
      "image/png": "[encoded data removed]",
      "text/plain": [
       "<Figure size 1080x504 with 1 Axes>"
      ]
     },
     "metadata": {
      "needs_background": "light"
     },
     "output_type": "display_data"
    }
   ],
   "source": [
    "figure = plt.figure(figsize = (15, 7))\n",
    "plt.boxplot(chiffre_daffaires['price'],notch = True,vert=0)\n",
    "plt.show()"
   ]
  },
  {
   "cell_type": "markdown",
   "id": "106ffc27",
   "metadata": {},
   "source": [
    "Valeur des outliers"
   ]
  },
  {
   "cell_type": "code",
   "execution_count": 37,
   "id": "4e6ec968",
   "metadata": {},
   "outputs": [
    {
     "data": {
      "text/html": [
       "<div>\n",
       "<style scoped>\n",
       "    .dataframe tbody tr th:only-of-type {\n",
       "        vertical-align: middle;\n",
       "    }\n",
       "\n",
       "    .dataframe tbody tr th {\n",
       "        vertical-align: top;\n",
       "    }\n",
       "\n",
       "    .dataframe thead th {\n",
       "        text-align: right;\n",
       "    }\n",
       "</style>\n",
       "<table border=\"1\" class=\"dataframe\">\n",
       "  <thead>\n",
       "    <tr style=\"text-align: right;\">\n",
       "      <th></th>\n",
       "      <th>sub</th>\n",
       "      <th>values</th>\n",
       "    </tr>\n",
       "  </thead>\n",
       "  <tbody>\n",
       "    <tr>\n",
       "      <th>0</th>\n",
       "      <td>IQR</td>\n",
       "      <td>27.400000</td>\n",
       "    </tr>\n",
       "    <tr>\n",
       "      <th>1</th>\n",
       "      <td>Upper Bound</td>\n",
       "      <td>83.100000</td>\n",
       "    </tr>\n",
       "    <tr>\n",
       "      <th>2</th>\n",
       "      <td>Lower Bound</td>\n",
       "      <td>-26.500000</td>\n",
       "    </tr>\n",
       "    <tr>\n",
       "      <th>3</th>\n",
       "      <td>Sum outliers</td>\n",
       "      <td>37.000000</td>\n",
       "    </tr>\n",
       "    <tr>\n",
       "      <th>4</th>\n",
       "      <td>percentage outliers</td>\n",
       "      <td>4.484848</td>\n",
       "    </tr>\n",
       "  </tbody>\n",
       "</table>\n",
       "</div>"
      ],
      "text/plain": [
       "                   sub     values\n",
       "0                  IQR  27.400000\n",
       "1          Upper Bound  83.100000\n",
       "2          Lower Bound -26.500000\n",
       "3         Sum outliers  37.000000\n",
       "4  percentage outliers   4.484848"
      ]
     },
     "execution_count": 37,
     "metadata": {},
     "output_type": "execute_result"
    }
   ],
   "source": [
    "#Utilisation des quartiles pour retrouver les valeurs aberrantes.\n",
    "#percentile est un concept de statistique qui permet de déterminer la position d’une valeur par rapport à un groupe donné\n",
    "#Q1 = 25 percentile des données\n",
    "#Q3 = 75 percentile des données\n",
    "def outliers(s):\n",
    "    iqr = (np.quantile(s, 0.75))-(np.quantile(s, 0.25)) # Différence entre le Quartile supérieure et le Quartile inférieure\n",
    "    upper_bound = np.quantile(s, 0.75)+(1.5*iqr) # Cherche les valeurs supérieur à Q3 + 1.5*IQR \n",
    "    lower_bound = np.quantile(s, 0.25)-(1.5*iqr) # Cherche les valeurs inférieur à Q1 - 1.5*IQR\n",
    "    f = []\n",
    "    for i in s:\n",
    "        if i > upper_bound: #Si prix > Q3 valeurs abberantes\n",
    "            f.append(i)\n",
    "        elif i < lower_bound: #Si prix < Q2 valeurs abberantes\n",
    "            f.append(i)\n",
    "    sums = len(f) #Nombre de Outlier\n",
    "    pros = len(f)/len(s)*100 # % de Outlier\n",
    "    d = {'IQR':iqr,\n",
    "         'Upper Bound':upper_bound,\n",
    "        'Lower Bound':lower_bound,\n",
    "        'Sum outliers': sums,'percentage outliers':pros}\n",
    "    d = pd.DataFrame(d.items(),columns = ['sub','values'])\n",
    "    return(d)\n",
    "    \n",
    "outliers(chiffre_daffaires.price)"
   ]
  },
  {
   "cell_type": "markdown",
   "id": "520780e8",
   "metadata": {},
   "source": [
    "Liste des valeurs abberrantes"
   ]
  },
  {
   "cell_type": "code",
   "execution_count": 38,
   "id": "5cde6b46",
   "metadata": {},
   "outputs": [
    {
     "data": {
      "text/html": [
       "<div>\n",
       "<style scoped>\n",
       "    .dataframe tbody tr th:only-of-type {\n",
       "        vertical-align: middle;\n",
       "    }\n",
       "\n",
       "    .dataframe tbody tr th {\n",
       "        vertical-align: top;\n",
       "    }\n",
       "\n",
       "    .dataframe thead th {\n",
       "        text-align: right;\n",
       "    }\n",
       "</style>\n",
       "<table border=\"1\" class=\"dataframe\">\n",
       "  <thead>\n",
       "    <tr style=\"text-align: right;\">\n",
       "      <th></th>\n",
       "      <th>sku</th>\n",
       "      <th>onsale_web</th>\n",
       "      <th>price</th>\n",
       "      <th>total_sales</th>\n",
       "      <th>CA_produit</th>\n",
       "    </tr>\n",
       "    <tr>\n",
       "      <th>product_id</th>\n",
       "      <th></th>\n",
       "      <th></th>\n",
       "      <th></th>\n",
       "      <th></th>\n",
       "      <th></th>\n",
       "    </tr>\n",
       "  </thead>\n",
       "  <tbody>\n",
       "    <tr>\n",
       "      <th>4352</th>\n",
       "      <td>15940</td>\n",
       "      <td>1</td>\n",
       "      <td>225.0</td>\n",
       "      <td>5.0</td>\n",
       "      <td>1125.0</td>\n",
       "    </tr>\n",
       "    <tr>\n",
       "      <th>5001</th>\n",
       "      <td>14581</td>\n",
       "      <td>1</td>\n",
       "      <td>217.5</td>\n",
       "      <td>0.0</td>\n",
       "      <td>0.0</td>\n",
       "    </tr>\n",
       "    <tr>\n",
       "      <th>5892</th>\n",
       "      <td>14983</td>\n",
       "      <td>1</td>\n",
       "      <td>191.3</td>\n",
       "      <td>3.0</td>\n",
       "      <td>573.9</td>\n",
       "    </tr>\n",
       "    <tr>\n",
       "      <th>4402</th>\n",
       "      <td>3510</td>\n",
       "      <td>1</td>\n",
       "      <td>176.0</td>\n",
       "      <td>13.0</td>\n",
       "      <td>2288.0</td>\n",
       "    </tr>\n",
       "    <tr>\n",
       "      <th>5767</th>\n",
       "      <td>15185</td>\n",
       "      <td>1</td>\n",
       "      <td>175.0</td>\n",
       "      <td>0.0</td>\n",
       "      <td>0.0</td>\n",
       "    </tr>\n",
       "    <tr>\n",
       "      <th>4406</th>\n",
       "      <td>7819</td>\n",
       "      <td>1</td>\n",
       "      <td>157.0</td>\n",
       "      <td>0.0</td>\n",
       "      <td>0.0</td>\n",
       "    </tr>\n",
       "    <tr>\n",
       "      <th>4594</th>\n",
       "      <td>NaN</td>\n",
       "      <td>1</td>\n",
       "      <td>144.0</td>\n",
       "      <td>NaN</td>\n",
       "      <td>NaN</td>\n",
       "    </tr>\n",
       "    <tr>\n",
       "      <th>4904</th>\n",
       "      <td>14220</td>\n",
       "      <td>1</td>\n",
       "      <td>137.0</td>\n",
       "      <td>5.0</td>\n",
       "      <td>685.0</td>\n",
       "    </tr>\n",
       "    <tr>\n",
       "      <th>6126</th>\n",
       "      <td>14923</td>\n",
       "      <td>1</td>\n",
       "      <td>135.0</td>\n",
       "      <td>2.0</td>\n",
       "      <td>270.0</td>\n",
       "    </tr>\n",
       "    <tr>\n",
       "      <th>4355</th>\n",
       "      <td>12589</td>\n",
       "      <td>1</td>\n",
       "      <td>126.5</td>\n",
       "      <td>11.0</td>\n",
       "      <td>1391.5</td>\n",
       "    </tr>\n",
       "    <tr>\n",
       "      <th>5612</th>\n",
       "      <td>14915</td>\n",
       "      <td>1</td>\n",
       "      <td>124.8</td>\n",
       "      <td>0.0</td>\n",
       "      <td>0.0</td>\n",
       "    </tr>\n",
       "    <tr>\n",
       "      <th>5917</th>\n",
       "      <td>14775</td>\n",
       "      <td>1</td>\n",
       "      <td>122.0</td>\n",
       "      <td>0.0</td>\n",
       "      <td>0.0</td>\n",
       "    </tr>\n",
       "    <tr>\n",
       "      <th>6216</th>\n",
       "      <td>15070</td>\n",
       "      <td>1</td>\n",
       "      <td>121.0</td>\n",
       "      <td>0.0</td>\n",
       "      <td>0.0</td>\n",
       "    </tr>\n",
       "    <tr>\n",
       "      <th>6213</th>\n",
       "      <td>15072</td>\n",
       "      <td>1</td>\n",
       "      <td>121.0</td>\n",
       "      <td>0.0</td>\n",
       "      <td>0.0</td>\n",
       "    </tr>\n",
       "    <tr>\n",
       "      <th>6202</th>\n",
       "      <td>15126</td>\n",
       "      <td>1</td>\n",
       "      <td>116.4</td>\n",
       "      <td>0.0</td>\n",
       "      <td>0.0</td>\n",
       "    </tr>\n",
       "    <tr>\n",
       "      <th>6215</th>\n",
       "      <td>12790</td>\n",
       "      <td>1</td>\n",
       "      <td>115.0</td>\n",
       "      <td>0.0</td>\n",
       "      <td>0.0</td>\n",
       "    </tr>\n",
       "    <tr>\n",
       "      <th>6212</th>\n",
       "      <td>13996</td>\n",
       "      <td>1</td>\n",
       "      <td>115.0</td>\n",
       "      <td>2.0</td>\n",
       "      <td>230.0</td>\n",
       "    </tr>\n",
       "    <tr>\n",
       "      <th>5918</th>\n",
       "      <td>14773</td>\n",
       "      <td>1</td>\n",
       "      <td>114.0</td>\n",
       "      <td>0.0</td>\n",
       "      <td>0.0</td>\n",
       "    </tr>\n",
       "    <tr>\n",
       "      <th>5025</th>\n",
       "      <td>13914</td>\n",
       "      <td>1</td>\n",
       "      <td>112.0</td>\n",
       "      <td>0.0</td>\n",
       "      <td>0.0</td>\n",
       "    </tr>\n",
       "    <tr>\n",
       "      <th>4582</th>\n",
       "      <td>12857</td>\n",
       "      <td>1</td>\n",
       "      <td>109.6</td>\n",
       "      <td>0.0</td>\n",
       "      <td>0.0</td>\n",
       "    </tr>\n",
       "    <tr>\n",
       "      <th>4404</th>\n",
       "      <td>3507</td>\n",
       "      <td>1</td>\n",
       "      <td>108.5</td>\n",
       "      <td>2.0</td>\n",
       "      <td>217.0</td>\n",
       "    </tr>\n",
       "    <tr>\n",
       "      <th>6201</th>\n",
       "      <td>14596</td>\n",
       "      <td>1</td>\n",
       "      <td>105.6</td>\n",
       "      <td>0.0</td>\n",
       "      <td>0.0</td>\n",
       "    </tr>\n",
       "    <tr>\n",
       "      <th>5008</th>\n",
       "      <td>11602</td>\n",
       "      <td>1</td>\n",
       "      <td>105.0</td>\n",
       "      <td>0.0</td>\n",
       "      <td>0.0</td>\n",
       "    </tr>\n",
       "    <tr>\n",
       "      <th>5007</th>\n",
       "      <td>12791</td>\n",
       "      <td>1</td>\n",
       "      <td>105.0</td>\n",
       "      <td>0.0</td>\n",
       "      <td>0.0</td>\n",
       "    </tr>\n",
       "    <tr>\n",
       "      <th>4407</th>\n",
       "      <td>3509</td>\n",
       "      <td>1</td>\n",
       "      <td>104.0</td>\n",
       "      <td>1.0</td>\n",
       "      <td>104.0</td>\n",
       "    </tr>\n",
       "    <tr>\n",
       "      <th>4903</th>\n",
       "      <td>14805</td>\n",
       "      <td>1</td>\n",
       "      <td>102.3</td>\n",
       "      <td>0.0</td>\n",
       "      <td>0.0</td>\n",
       "    </tr>\n",
       "    <tr>\n",
       "      <th>4115</th>\n",
       "      <td>15382</td>\n",
       "      <td>1</td>\n",
       "      <td>100.0</td>\n",
       "      <td>0.0</td>\n",
       "      <td>0.0</td>\n",
       "    </tr>\n",
       "    <tr>\n",
       "      <th>6214</th>\n",
       "      <td>11601</td>\n",
       "      <td>1</td>\n",
       "      <td>99.0</td>\n",
       "      <td>0.0</td>\n",
       "      <td>0.0</td>\n",
       "    </tr>\n",
       "    <tr>\n",
       "      <th>5916</th>\n",
       "      <td>14774</td>\n",
       "      <td>1</td>\n",
       "      <td>93.0</td>\n",
       "      <td>0.0</td>\n",
       "      <td>0.0</td>\n",
       "    </tr>\n",
       "    <tr>\n",
       "      <th>5565</th>\n",
       "      <td>19822</td>\n",
       "      <td>1</td>\n",
       "      <td>92.0</td>\n",
       "      <td>0.0</td>\n",
       "      <td>0.0</td>\n",
       "    </tr>\n",
       "    <tr>\n",
       "      <th>6324</th>\n",
       "      <td>NaN</td>\n",
       "      <td>0</td>\n",
       "      <td>92.0</td>\n",
       "      <td>NaN</td>\n",
       "      <td>NaN</td>\n",
       "    </tr>\n",
       "    <tr>\n",
       "      <th>4132</th>\n",
       "      <td>11668</td>\n",
       "      <td>1</td>\n",
       "      <td>88.4</td>\n",
       "      <td>0.0</td>\n",
       "      <td>0.0</td>\n",
       "    </tr>\n",
       "    <tr>\n",
       "      <th>5026</th>\n",
       "      <td>13913</td>\n",
       "      <td>1</td>\n",
       "      <td>86.8</td>\n",
       "      <td>0.0</td>\n",
       "      <td>0.0</td>\n",
       "    </tr>\n",
       "    <tr>\n",
       "      <th>4055</th>\n",
       "      <td>NaN</td>\n",
       "      <td>0</td>\n",
       "      <td>86.1</td>\n",
       "      <td>NaN</td>\n",
       "      <td>NaN</td>\n",
       "    </tr>\n",
       "    <tr>\n",
       "      <th>4359</th>\n",
       "      <td>13853</td>\n",
       "      <td>1</td>\n",
       "      <td>85.6</td>\n",
       "      <td>1.0</td>\n",
       "      <td>85.6</td>\n",
       "    </tr>\n",
       "    <tr>\n",
       "      <th>5070</th>\n",
       "      <td>NaN</td>\n",
       "      <td>1</td>\n",
       "      <td>84.7</td>\n",
       "      <td>NaN</td>\n",
       "      <td>NaN</td>\n",
       "    </tr>\n",
       "    <tr>\n",
       "      <th>5580</th>\n",
       "      <td>13982</td>\n",
       "      <td>1</td>\n",
       "      <td>83.7</td>\n",
       "      <td>0.0</td>\n",
       "      <td>0.0</td>\n",
       "    </tr>\n",
       "  </tbody>\n",
       "</table>\n",
       "</div>"
      ],
      "text/plain": [
       "              sku  onsale_web  price  total_sales  CA_produit\n",
       "product_id                                                   \n",
       "4352        15940           1  225.0          5.0      1125.0\n",
       "5001        14581           1  217.5          0.0         0.0\n",
       "5892        14983           1  191.3          3.0       573.9\n",
       "4402         3510           1  176.0         13.0      2288.0\n",
       "5767        15185           1  175.0          0.0         0.0\n",
       "4406         7819           1  157.0          0.0         0.0\n",
       "4594          NaN           1  144.0          NaN         NaN\n",
       "4904        14220           1  137.0          5.0       685.0\n",
       "6126        14923           1  135.0          2.0       270.0\n",
       "4355        12589           1  126.5         11.0      1391.5\n",
       "5612        14915           1  124.8          0.0         0.0\n",
       "5917        14775           1  122.0          0.0         0.0\n",
       "6216        15070           1  121.0          0.0         0.0\n",
       "6213        15072           1  121.0          0.0         0.0\n",
       "6202        15126           1  116.4          0.0         0.0\n",
       "6215        12790           1  115.0          0.0         0.0\n",
       "6212        13996           1  115.0          2.0       230.0\n",
       "5918        14773           1  114.0          0.0         0.0\n",
       "5025        13914           1  112.0          0.0         0.0\n",
       "4582        12857           1  109.6          0.0         0.0\n",
       "4404         3507           1  108.5          2.0       217.0\n",
       "6201        14596           1  105.6          0.0         0.0\n",
       "5008        11602           1  105.0          0.0         0.0\n",
       "5007        12791           1  105.0          0.0         0.0\n",
       "4407         3509           1  104.0          1.0       104.0\n",
       "4903        14805           1  102.3          0.0         0.0\n",
       "4115        15382           1  100.0          0.0         0.0\n",
       "6214        11601           1   99.0          0.0         0.0\n",
       "5916        14774           1   93.0          0.0         0.0\n",
       "5565        19822           1   92.0          0.0         0.0\n",
       "6324          NaN           0   92.0          NaN         NaN\n",
       "4132        11668           1   88.4          0.0         0.0\n",
       "5026        13913           1   86.8          0.0         0.0\n",
       "4055          NaN           0   86.1          NaN         NaN\n",
       "4359        13853           1   85.6          1.0        85.6\n",
       "5070          NaN           1   84.7          NaN         NaN\n",
       "5580        13982           1   83.7          0.0         0.0"
      ]
     },
     "execution_count": 38,
     "metadata": {},
     "output_type": "execute_result"
    }
   ],
   "source": [
    "valeurs_aberrantes = (chiffre_daffaires.loc[chiffre_daffaires['price'] > 83.1])\n",
    "valeurs_aberrantes.sort_values(by=['price'], ascending=False)"
   ]
  },
  {
   "cell_type": "code",
   "execution_count": null,
   "id": "096f4535",
   "metadata": {},
   "outputs": [],
   "source": []
  }
 ],
 "metadata": {
  "kernelspec": {
   "display_name": "Python 3",
   "language": "python",
   "name": "python3"
  },
  "language_info": {
   "codemirror_mode": {
    "name": "ipython",
    "version": 3
   },
   "file_extension": ".py",
   "mimetype": "text/x-python",
   "name": "python",
   "nbconvert_exporter": "python",
   "pygments_lexer": "ipython3",
   "version": "3.9.7"
  }
 },
 "nbformat": 4,
 "nbformat_minor": 5
}
